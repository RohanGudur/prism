{
 "cells": [
  {
   "cell_type": "markdown",
   "id": "368991da-73f0-41e4-9db6-f4af354e4ce0",
   "metadata": {},
   "source": [
    "# &#x2728; Welcome to Generative AI Hackathon &#x2728;"
   ]
  },
  {
   "cell_type": "markdown",
   "id": "ecb8d1cc-62ee-494e-9023-12d7d5cf8305",
   "metadata": {},
   "source": [
    "We are thrilled to have you onboard for this hackathon. Here's a quick guide on what we expect in your submission document.\n",
    "Get ready to showcase your brilliance!! We can't wait to see your magic unleash."
   ]
  },
  {
   "cell_type": "markdown",
   "id": "cf199c1a-892a-4fbe-adfa-daefdfa35eb3",
   "metadata": {},
   "source": [
    "### Let the best hack prevail &#x1F916;"
   ]
  },
  {
   "cell_type": "markdown",
   "id": "1aead955-0231-4ead-a730-8fb95447fe81",
   "metadata": {
    "jp-MarkdownHeadingCollapsed": true
   },
   "source": [
    "<b>Team Name</b> : Demo-lishers<br>\n",
    "<b>Team ID </b>  : 1234<br>\n",
    "<b>Hack Name</b> : Long_Story_Short<br>\n",
    "<b>Theme</b>     : 1<br>\n",
    "<b>Members</b>   : <br>\n",
    "<table>\n",
    "  <tr>\n",
    "    <th>Name</th>\n",
    "    <th>Email</th>\n",
    "    <th>Branch & Year</th>\n",
    "    <th>Phone</th>\n",
    "  </tr>\n",
    "  <tr>\n",
    "    <td><!-- Member 1 Details ---></td>\n",
    "    <td></td>\n",
    "    <td></td>\n",
    "    <td></td>\n",
    "  </tr>\n",
    "    <tr>\n",
    "    <td><!-- Member 2 Details ---></td>\n",
    "    <td></td>\n",
    "    <td></td>\n",
    "    <td></td>\n",
    "  </tr>\n",
    "    <tr>\n",
    "    <td><!-- Member 3 Details ---></td>\n",
    "    <td></td>\n",
    "    <td></td>\n",
    "    <td></td>\n",
    "  </tr>\n",
    "    <tr>\n",
    "    <td><!-- Member 4 Details ---></td>\n",
    "    <td></td>\n",
    "    <td></td>\n",
    "    <td></td>\n",
    "  </tr>\n",
    "</table>"
   ]
  },
  {
   "cell_type": "markdown",
   "id": "4e6b0c8b-bd10-4bcd-9019-64fd48408bdb",
   "metadata": {},
   "source": [
    "<div>\n",
    "<div style=\"display:flex \">\n",
    "    <div style=\"margin: auto auto auto 0\"><h2>Motivation  &#x2b50;</h2>  </div>\n",
    "    <div style=\" margin: auto 0 auto auto \"><b>[20 Points]</b></div>\n",
    "</div>\n",
    "<i>A compelling motivation sets the stage for an unforgettable hack. \n",
    "What inspired you to take this up? What real-world problem does it solves? Tell us your story!</i> \n",
    "</div>"
   ]
  },
  {
   "cell_type": "markdown",
   "id": "6f853e1d",
   "metadata": {},
   "source": [
    "<div style='background-color: #D3F2E3' >\n",
    "#Motivation\n",
    "</div>"
   ]
  },
  {
   "cell_type": "markdown",
   "id": "456372ba-7d13-44ed-a4a8-faa3a2550bbf",
   "metadata": {},
   "source": [
    "<div>\n",
    "<div style=\"display:flex \">\n",
    "    <div style=\"margin: auto auto auto 0\"><h2>Implementation  &#x1f6e0;</h2>  </div>\n",
    "    <div style=\" margin: auto 0 auto auto\"><b>[70 Points]</b></div>\n",
    "</div>\n",
    "<i>Breakdown your nitty-gritty project's architechture,features, technologies down here. Provide us with enough details to grasp your technical prowess, but make sure it is snappy and engaging. Flowcharts, Snippets, diagram are your allies here\n",
    "</i> \n",
    "</div>"
   ]
  },
  {
   "cell_type": "code",
   "execution_count": 1,
   "id": "ca744757",
   "metadata": {},
   "outputs": [],
   "source": [
    "#Implementation"
   ]
  },
  {
   "cell_type": "markdown",
   "id": "28b26aa1-28b1-4f87-85c7-40589e5abab3",
   "metadata": {},
   "source": [
    "<div>\n",
    "<div style=\"display:flex \">\n",
    "    <div style=\"margin: auto auto auto 0\"><h2>Speculation  &#x1f680;</h2>  </div>\n",
    "    <div style=\" margin: auto 0 auto auto\"><b>[10 Points]</b></div>\n",
    "</div>\n",
    "<i>This is your chance to dream big! Let your imagination run wild. Paint a vivid picture of how this could be the next big tech trend.\n",
    "</i> \n",
    "</div>\n"
   ]
  },
  {
   "cell_type": "markdown",
   "id": "775069ef",
   "metadata": {},
   "source": [
    "<div style='background-color:#D3F2E3'>\n",
    "#Speculations\n",
    "</div>\n"
   ]
  }
 ],
 "metadata": {
  "kernelspec": {
   "display_name": "Python 3 (ipykernel)",
   "language": "python",
   "name": "python3"
  },
  "language_info": {
   "codemirror_mode": {
    "name": "ipython",
    "version": 3
   },
   "file_extension": ".py",
   "mimetype": "text/x-python",
   "name": "python",
   "nbconvert_exporter": "python",
   "pygments_lexer": "ipython3",
   "version": "3.12.1"
  }
 },
 "nbformat": 4,
 "nbformat_minor": 5
}
