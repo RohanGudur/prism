{
 "cells": [
  {
   "cell_type": "markdown",
   "id": "368991da-73f0-41e4-9db6-f4af354e4ce0",
   "metadata": {},
   "source": [
    "# &#x2728; Welcome to Generative AI Hackathon &#x2728;"
   ]
  },
  {
   "cell_type": "markdown",
   "id": "ecb8d1cc-62ee-494e-9023-12d7d5cf8305",
   "metadata": {},
   "source": [
    "We are thrilled to have you onboard for this hackathon. Here's a quick guide on what we expect in your submission document.\n",
    "Get ready to showcase your brilliance!! We can't wait to see your magic unleash."
   ]
  },
  {
   "cell_type": "markdown",
   "id": "cf199c1a-892a-4fbe-adfa-daefdfa35eb3",
   "metadata": {},
   "source": [
    "### Let the best hack prevail &#x1F916;"
   ]
  },
  {
   "cell_type": "markdown",
   "id": "1aead955-0231-4ead-a730-8fb95447fe81",
   "metadata": {
    "jp-MarkdownHeadingCollapsed": true
   },
   "source": [
    "<b>Team Name</b> : Demo-lishers<br>\n",
    "<b>Team ID </b>  : 1234<br>\n",
    "<b>Hack Name</b> : Long_Story_Short<br>\n",
    "<b>Theme</b>     : 1<br>\n",
    "<b>Members</b>   : <br>\n",
    "<table>\n",
    "  <tr>\n",
    "    <th>Name</th>\n",
    "    <th>Email</th>\n",
    "    <th>Branch & Year</th>\n",
    "    <th>Phone</th>\n",
    "  </tr>\n",
    "  <tr>\n",
    "    <td>Han Solo</td>\n",
    "    <td>HanSolo@stwars.com </td>\n",
    "    <td>ECE, 3rd year</td>\n",
    "    <td>785878574</td>\n",
    "  </tr>\n",
    "     <tr>\n",
    "    <td>Severus Snape</td>\n",
    "    <td> SSnape@hpp.com</td>\n",
    "    <td>ECE, 2rd year</td>\n",
    "    <td>785748574</td>\n",
    "  </tr>\n",
    "</table>"
   ]
  },
  {
   "cell_type": "markdown",
   "id": "4e6b0c8b-bd10-4bcd-9019-64fd48408bdb",
   "metadata": {},
   "source": [
    "<div>\n",
    "<div style=\"display:flex \">\n",
    "    <div style=\"margin: auto auto auto 0\"><h2>Motivation  &#x2b50;</h2>  </div>\n",
    "    <div style=\" margin: auto 0 auto auto \"><b>[20 Points]</b></div>\n",
    "</div>\n",
    "<i>A compelling motivation sets the stage for an unforgettable hack. \n",
    "What inspired you to take this up? What real-world problem does it solves? Tell us your story!</i> \n",
    "</div>"
   ]
  },
  {
   "cell_type": "markdown",
   "id": "6f853e1d",
   "metadata": {},
   "source": [
    "<div style='background-color: #D3F2E3' >\n",
    "As per a study, everyday 2.5 Quintillion bytes of data is produced daily. This creates concern for it storage, maintainence and processing. Our goal is to allevate this burden with a tool that distills voluminous content into concide summaries, enabling efficient and fast consumption of data.\n",
    "</div>\n"
   ]
  },
  {
   "cell_type": "markdown",
   "id": "456372ba-7d13-44ed-a4a8-faa3a2550bbf",
   "metadata": {},
   "source": [
    "<div>\n",
    "<div style=\"display:flex \">\n",
    "    <div style=\"margin: auto auto auto 0\"><h2>Implementation  &#x1f6e0;</h2>  </div>\n",
    "    <div style=\" margin: auto 0 auto auto\"><b>[70 Points]</b></div>\n",
    "</div>\n",
    "<i>Breakdown your nitty-gritty project's architechture,features, technologies down here. Provide us with enough details to grasp your technical prowess, but make sure it is snappy and engaging. Flowcharts, Snippets, diagram are your allies here\n",
    "</i> \n",
    "</div>"
   ]
  },
  {
   "cell_type": "code",
   "execution_count": 15,
   "id": "ca744757",
   "metadata": {},
   "outputs": [
    {
     "name": "stderr",
     "output_type": "stream",
     "text": [
      "Setting `pad_token_id` to `eos_token_id`:50256 for open-end generation.\n"
     ]
    },
    {
     "name": "stdout",
     "output_type": "stream",
     "text": [
      "\n",
      "Tesla also reported second-quarter net income and realized revenue of $1.37 billion, which stands nearly $2 billion above the prior year estimate. The company had reported second-quarter income of $10.31 billion, or $3.48 per share. Earnings increased, as has other Tesla analyst markets. The company reported second-quarter revenue of 93 cents per share. That's about a 25 cents increase on past quarters. Earnings rose $3.04 billion to $24\n"
     ]
    }
   ],
   "source": [
    "from langchain_community.llms.huggingface_pipeline import HuggingFacePipeline\n",
    "from transformers import AutoModelForCausalLM, AutoTokenizer, pipeline\n",
    "from langchain.prompts import PromptTemplate\n",
    "from langchain_community.document_loaders import WebBaseLoader\n",
    "\n",
    "\n",
    "model_id = \"gpt2\"\n",
    "model = AutoModelForCausalLM.from_pretrained(model_id)\n",
    "tokenizer = AutoTokenizer.from_pretrained(model_id)\n",
    "pipe = pipeline(\"text-generation\", model=model, tokenizer=tokenizer, max_new_tokens=100)\n",
    "hf = HuggingFacePipeline(pipeline=pipe)\n",
    "\n",
    "template = \"\"\"Summarize this {text}\"\"\"\n",
    "loader = WebBaseLoader(\"http://0.0.0.0:8000/Sample.html\")\n",
    "docs = loader.load()\n",
    "prompt = PromptTemplate.from_template(input_variable=['text'],template=template)\n",
    "\n",
    "chain = prompt | hf\n",
    "\n",
    "print(chain.invoke({\"text\": docs[0].page_content}))"
   ]
  },
  {
   "cell_type": "markdown",
   "id": "28b26aa1-28b1-4f87-85c7-40589e5abab3",
   "metadata": {},
   "source": [
    "<div>\n",
    "<div style=\"display:flex \">\n",
    "    <div style=\"margin: auto auto auto 0\"><h2>Speculation  &#x1f680;</h2>  </div>\n",
    "    <div style=\" margin: auto 0 auto auto\"><b>[10 Points]</b></div>\n",
    "</div>\n",
    "<i>This is your chance to dream big! Let your imagination run wild. Paint a vivid picture of how this could be the next big tech trend.\n",
    "</i> \n",
    "</div>\n"
   ]
  },
  {
   "cell_type": "markdown",
   "id": "775069ef",
   "metadata": {},
   "source": [
    "<div style='background-color:#D3F2E3'>\n",
    "<li>The solution can be further extended to deal with different file formats like PDF, word document and worksheets to gain insights.</li>\n",
    "<li>Fetching important details from documents like Addresses, names, processes etc.</li>\n",
    "</div>\n"
   ]
  }
 ],
 "metadata": {
  "kernelspec": {
   "display_name": "Python 3 (ipykernel)",
   "language": "python",
   "name": "python3"
  },
  "language_info": {
   "codemirror_mode": {
    "name": "ipython",
    "version": 3
   },
   "file_extension": ".py",
   "mimetype": "text/x-python",
   "name": "python",
   "nbconvert_exporter": "python",
   "pygments_lexer": "ipython3",
   "version": "3.12.1"
  }
 },
 "nbformat": 4,
 "nbformat_minor": 5
}
